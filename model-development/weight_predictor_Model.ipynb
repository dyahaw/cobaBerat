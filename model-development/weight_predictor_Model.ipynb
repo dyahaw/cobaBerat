{
  "nbformat": 4,
  "nbformat_minor": 0,
  "metadata": {
    "colab": {
      "name": "weight_predictor_Model.ipynb",
      "provenance": []
    },
    "kernelspec": {
      "name": "python3",
      "display_name": "Python 3"
    },
    "language_info": {
      "name": "python"
    }
  },
  "cells": [
    {
      "cell_type": "markdown",
      "source": [
        "**Import Library** "
      ],
      "metadata": {
        "id": "j6ahr-edxwnX"
      }
    },
    {
      "cell_type": "code",
      "execution_count": 1,
      "metadata": {
        "id": "MYsl9Ahirot6"
      },
      "outputs": [],
      "source": [
        "import pandas as pd\n",
        "import numpy as np\n",
        "from sklearn.pipeline import make_pipeline\n",
        "from sklearn.preprocessing import StandardScaler\n",
        "from sklearn.linear_model import LinearRegression\n",
        "from sklearn.model_selection import train_test_split"
      ]
    },
    {
      "cell_type": "code",
      "source": [
        "import pickle"
      ],
      "metadata": {
        "id": "iwOyJVozrvrE"
      },
      "execution_count": 2,
      "outputs": []
    },
    {
      "cell_type": "markdown",
      "source": [
        "**Import Dataset**"
      ],
      "metadata": {
        "id": "D7S-xBUbx2xC"
      }
    },
    {
      "cell_type": "markdown",
      "source": [
        "**Load Dataset**"
      ],
      "metadata": {
        "id": "-ScUcg9Rx8j4"
      }
    },
    {
      "cell_type": "code",
      "source": [
        "data = pd.read_csv('datasets/weight-height.csv')"
      ],
      "metadata": {
        "id": "OGnX3CwRsrK5"
      },
      "execution_count": 3,
      "outputs": []
    },
    {
      "cell_type": "markdown",
      "source": [
        "**Converting Categorical Values to numerical values**"
      ],
      "metadata": {
        "id": "Kg3BH7fD2_VL"
      }
    },
    {
      "cell_type": "code",
      "source": [
        "data['Gender'] = data['Gender'].apply(lambda x:{'Male' : 1,'Female' : 0}[x])"
      ],
      "metadata": {
        "id": "59e6q8BbuACF"
      },
      "execution_count": 4,
      "outputs": []
    },
    {
      "cell_type": "markdown",
      "source": [
        "**Extracting Prediction and Features values**"
      ],
      "metadata": {
        "id": "qvNZWF4g3It7"
      }
    },
    {
      "cell_type": "code",
      "source": [
        "X = data.iloc[:,[1,0]].values\n",
        "y = data.iloc[:,2].values"
      ],
      "metadata": {
        "id": "b1ZgJ5x4uat5"
      },
      "execution_count": 5,
      "outputs": []
    },
    {
      "cell_type": "markdown",
      "source": [
        "**Splitting data for training and testing**"
      ],
      "metadata": {
        "id": "Dweqn26k3YYz"
      }
    },
    {
      "cell_type": "code",
      "source": [
        "X_train, X_test, y_train, y_test = train_test_split(X, y, test_size = 0.25, \n",
        "                                                    random_state = 30)"
      ],
      "metadata": {
        "id": "AEPY4R82wlZd"
      },
      "execution_count": 6,
      "outputs": []
    },
    {
      "cell_type": "markdown",
      "source": [
        "**Creating Model Linier Regression**"
      ],
      "metadata": {
        "id": "8cbGfKbz3bYD"
      }
    },
    {
      "cell_type": "code",
      "source": [
        "weight_predictor = make_pipeline(StandardScaler(), LinearRegression())\n",
        "weight_predictor.fit(X_train, y_train)"
      ],
      "metadata": {
        "colab": {
          "base_uri": "https://localhost:8080/"
        },
        "id": "OV7irO52wnSb",
        "outputId": "d3e47d38-cd15-4e1f-bded-be24a9555bab"
      },
      "execution_count": 7,
      "outputs": [
        {
          "output_type": "execute_result",
          "data": {
            "text/plain": [
              "Pipeline(steps=[('standardscaler', StandardScaler()),\n",
              "                ('linearregression', LinearRegression())])"
            ]
          },
          "metadata": {},
          "execution_count": 7
        }
      ]
    },
    {
      "cell_type": "markdown",
      "source": [
        "**Check Result**"
      ],
      "metadata": {
        "id": "qfM39ZA53lu7"
      }
    },
    {
      "cell_type": "code",
      "source": [
        "weight_predictor.predict(X_test)"
      ],
      "metadata": {
        "colab": {
          "base_uri": "https://localhost:8080/"
        },
        "id": "N2WbugyY1Vy0",
        "outputId": "7856ad77-c86b-43e2-af8a-dc0867384cd7"
      },
      "execution_count": 8,
      "outputs": [
        {
          "output_type": "execute_result",
          "data": {
            "text/plain": [
              "array([123.52937154, 197.9552789 , 186.27757801, ..., 117.05957185,\n",
              "       132.7688169 , 127.19241069])"
            ]
          },
          "metadata": {},
          "execution_count": 8
        }
      ]
    },
    {
      "cell_type": "markdown",
      "source": [
        "**Check Accuracy**"
      ],
      "metadata": {
        "id": "rFvToEPH3pZM"
      }
    },
    {
      "cell_type": "code",
      "source": [
        "accuracy = weight_predictor.score(X_test, y_test)"
      ],
      "metadata": {
        "id": "6y5VMWnGxXQ8"
      },
      "execution_count": 9,
      "outputs": []
    },
    {
      "cell_type": "code",
      "source": [
        "print(f\"Akurasi Model : {accuracy*100}%\") "
      ],
      "metadata": {
        "colab": {
          "base_uri": "https://localhost:8080/"
        },
        "id": "t2LOCXCjwzjs",
        "outputId": "57210097-3105-4a1b-90a2-977a91063624"
      },
      "execution_count": 10,
      "outputs": [
        {
          "output_type": "stream",
          "name": "stdout",
          "text": [
            "Akurasi Model : 90.65287341399927%\n"
          ]
        }
      ]
    },
    {
      "cell_type": "code",
      "source": [
        "pickle.dump(weight_predictor, open(\"weight_predictor.pkl\", \"wb\"))"
      ],
      "metadata": {
        "id": "V7zwVTIpwtcU"
      },
      "execution_count": 11,
      "outputs": []
    }
  ]
}